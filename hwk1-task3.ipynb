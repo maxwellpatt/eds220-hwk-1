{
 "cells": [
  {
   "cell_type": "markdown",
   "metadata": {},
   "source": [
    "# Task 3\n",
    "\n",
    "First, update the following cell to have a link to your Homework 1 GitHub repository:\n"
   ]
  },
  {
   "cell_type": "markdown",
   "metadata": {},
   "source": [
    "\n",
    "**UPDATE THIS LINK:**\n",
    "\n",
    "[https://github.com/carmengg/eds-220-hwk-1]()\n"
   ]
  },
  {
   "cell_type": "markdown",
   "metadata": {},
   "source": [
    "\n",
    "In this task, make at least 5 commits at moments you think are adequate. We'll look at your repo to check commit history.\n",
    "\n",
    "Add comments for all your code. Err on the side of commenting too much for now. \n",
    "\n",
    "Comments in each exercise and commits will count towards your grade.\n",
    "\n",
    "This task covers topics we will see on Monday Oct. 9. The best strategy to solve it is to get together with your classmates and work on it together after Monday's lecture."
   ]
  },
  {
   "cell_type": "markdown",
   "metadata": {},
   "source": [
    "\n",
    "## 1\n",
    "For this task we are going to use data about  [Western Indian Ocean Coral Diversity (McClanahan, 2023)](https://knb.ecoinformatics.org/view/doi%3A10.5063%2FF1K35S3H) from the Knowledge Network for Biocomplexity (KNB) data repository. \n",
    "\n",
    "a. Navigate to the dataset's link and explore the data package. \n",
    " \n",
    "b. Use the next markdown cell to add a brief description of the dataset, including a citation, date of access, and a link to the archive. \n"
   ]
  },
  {
   "cell_type": "markdown",
   "metadata": {},
   "source": [
    "The dataset focuses on predicting the current (2020) and future (2050) numbers of coral taxa in the western Indian Ocean, considering the threats posed by climate change. The predictions are based on machine learning models that utilize 35 environmental proxies, trained with data from approximately 1000 field surveys across 7039 mapped reef cells. The study explores four models, examining the impacts of climate change, water quality, direct human-resource extraction, and the process of variable selection on coral taxa numbers. Two of these models specifically compare predictions using all variables against those restricted to climate change and human influence. Data used was collected from 1999 to 2022. Accessed Oct 9, 2023.\n",
    "\n",
    "Tim McClanahan. (2023). Western Indian Ocean Coral Diversity. Knowledge Network for Biocomplexity. doi:10.5063/F1K35S3H."
   ]
  },
  {
   "cell_type": "markdown",
   "metadata": {},
   "source": [
    "## 2\n",
    "In the next code cell, import the pandas package using standard abbreviation in a code cell.\n",
    "\n",
    "Read in the data from the URL using the `pd.read_csv` function and store it as `coral_div` like this:\n",
    "\n",
    "```\n",
    "# read in data\n",
    "coral_div = pd.read_csv('the URL goes here')\n",
    "```"
   ]
  },
  {
   "cell_type": "code",
   "execution_count": 4,
   "metadata": {
    "tags": [],
    "vscode": {
     "languageId": "python"
    }
   },
   "outputs": [],
   "source": [
    "# import panads package\n",
    "import pandas as pd\n",
    "\n",
    "# read in and store data\n",
    "coral_div = pd.read_csv('https://knb.ecoinformatics.org/knb/d1/mn/v2/object/urn%3Auuid%3Ae7d12a5a-f1a9-4a3e-aaa5-5222f67e799d')"
   ]
  },
  {
   "cell_type": "markdown",
   "metadata": {},
   "source": [
    "## 3\n",
    "\n",
    "Use attributes and methods of the `coral_div` data frame to obtain the following information about it:\n",
    "\n",
    "a. how many rows and columns does it have?\n",
    "\n",
    "b. what are the column names?\n",
    "\n",
    "c. what are the data types of the columns?\n",
    "\n",
    "d. display the first 8 rows with all the column names. For this one, you will need to udpate a `pandas` option (see discussion section)\n",
    "\n",
    "e. some inital info you are interested in. \n",
    "\n",
    "Use the code cells marked a-e. For each, add a comment explaining what is the ouput."
   ]
  },
  {
   "cell_type": "code",
   "execution_count": 10,
   "metadata": {
    "tags": [],
    "vscode": {
     "languageId": "python"
    }
   },
   "outputs": [
    {
     "name": "stdout",
     "output_type": "stream",
     "text": [
      "Rows in coral_div: 575\n",
      "Columns in coral_div: 42\n"
     ]
    }
   ],
   "source": [
    "# a\n",
    "# use .shape to determine number of rows and columns\n",
    "# store number of rows in coral_div\n",
    "coral_rows = coral_div.shape[0]\n",
    "\n",
    "# store number of columns in coral_div\n",
    "coral_cols = coral_div.shape[1]\n",
    "\n",
    "# print results\n",
    "print(\"Rows in coral_div:\", coral_rows)\n",
    "print(\"Columns in coral_div:\", coral_cols)"
   ]
  },
  {
   "cell_type": "code",
   "execution_count": 16,
   "metadata": {
    "tags": [],
    "vscode": {
     "languageId": "python"
    }
   },
   "outputs": [
    {
     "name": "stdout",
     "output_type": "stream",
     "text": [
      "Column names are: ['PU_ID', 'PU_Lat', 'PU_Lon', 'Number_of_genera', 'Country', 'Ecoregion', 'Management', 'Habitat', 'Observer', 'Depth', 'Coralcover', 'SSTRateofRise', 'PARmax', 'Calcite', 'Dis_oxygen', 'mean.waveNRJ', 'Salinity_mean', 'andrello_reef_value', 'andrello_nutrients', 'mean.npp', 'TT_market_hrs', 'TT_pop_hrs', 'cumDHW', 'SST_Kurtosis', 'SST_Median', 'ChlorA_median', 'andrello_sediments', 'Current_vel_mean', 'Diff_attenuation', 'Grav_NP', 'Grav_NC', 'PH', 'SST_bimodality', 'SST_Skewness', 'ClimateStressModel', 'Netflow', 'Indegree', 'Outdegree', 'Retention', 'min_yr', 'max_yr', 'no_replicates']\n"
     ]
    }
   ],
   "source": [
    "# b use .columns to find the column names\n",
    "# store column names, turn into list to make output result cleaner\n",
    "column_names = coral_div.columns.tolist()\n",
    "\n",
    "# print results\n",
    "print(\"Column names are:\", column_names)"
   ]
  },
  {
   "cell_type": "code",
   "execution_count": 18,
   "metadata": {
    "tags": [],
    "vscode": {
     "languageId": "python"
    }
   },
   "outputs": [
    {
     "name": "stdout",
     "output_type": "stream",
     "text": [
      "Data types of the columns: PU_ID                    int64\n",
      "PU_Lat                 float64\n",
      "PU_Lon                 float64\n",
      "Number_of_genera         int64\n",
      "Country                 object\n",
      "Ecoregion               object\n",
      "Management              object\n",
      "Habitat                 object\n",
      "Observer                object\n",
      "Depth                  float64\n",
      "Coralcover               int64\n",
      "SSTRateofRise          float64\n",
      "PARmax                 float64\n",
      "Calcite                float64\n",
      "Dis_oxygen             float64\n",
      "mean.waveNRJ           float64\n",
      "Salinity_mean          float64\n",
      "andrello_reef_value      int64\n",
      "andrello_nutrients     float64\n",
      "mean.npp               float64\n",
      "TT_market_hrs          float64\n",
      "TT_pop_hrs             float64\n",
      "cumDHW                 float64\n",
      "SST_Kurtosis           float64\n",
      "SST_Median             float64\n",
      "ChlorA_median          float64\n",
      "andrello_sediments     float64\n",
      "Current_vel_mean       float64\n",
      "Diff_attenuation       float64\n",
      "Grav_NP                float64\n",
      "Grav_NC                float64\n",
      "PH                     float64\n",
      "SST_bimodality         float64\n",
      "SST_Skewness           float64\n",
      "ClimateStressModel     float64\n",
      "Netflow                float64\n",
      "Indegree               float64\n",
      "Outdegree              float64\n",
      "Retention              float64\n",
      "min_yr                   int64\n",
      "max_yr                   int64\n",
      "no_replicates            int64\n",
      "dtype: object\n"
     ]
    }
   ],
   "source": [
    "# c\n",
    "# find and store data types using .dtypes\n",
    "column_types = coral_div.dtypes\n",
    "\n",
    "# print results\n",
    "print(\"Data types of the columns:\", column_types)"
   ]
  },
  {
   "cell_type": "code",
   "execution_count": 21,
   "metadata": {
    "tags": [],
    "vscode": {
     "languageId": "python"
    }
   },
   "outputs": [
    {
     "name": "stdout",
     "output_type": "stream",
     "text": [
      "First 8 rows with column names:    PU_ID     PU_Lat    PU_Lon  Number_of_genera   Country  \\\n",
      "0      7  39.076711 -5.490011                35  Tanzania   \n",
      "1      7  39.076711 -5.490011                22  Tanzania   \n",
      "2      7  39.076711 -5.490011                25  Tanzania   \n",
      "3      7  39.076711 -5.490011                26  Tanzania   \n",
      "4     10  39.054253 -5.512514                27  Tanzania   \n",
      "5     10  39.054253 -5.512514                29  Tanzania   \n",
      "6     15  39.054253 -5.535017                19  Tanzania   \n",
      "7     39  39.009337 -5.647518                28  Tanzania   \n",
      "\n",
      "                  Ecoregion   Management           Habitat Observer  Depth  \\\n",
      "0  East African Coral Coast  UnfishedLow             Crest      Tim   11.0   \n",
      "1  East African Coral Coast  UnfishedLow  Lagoon/Back reef  Nyawira    2.0   \n",
      "2  East African Coral Coast  UnfishedLow             Slope  Nyawira    4.0   \n",
      "3  East African Coral Coast  UnfishedLow             Slope  Nyawira    3.0   \n",
      "4  East African Coral Coast  UnfishedLow  Lagoon/Back reef  Nyawira    1.5   \n",
      "5  East African Coral Coast  UnfishedLow  Lagoon/Back reef      Tim    1.5   \n",
      "6  East African Coral Coast   Restricted             Crest      Tim    8.0   \n",
      "7  East African Coral Coast  UnfishedLow  Lagoon/Back reef  Nyawira    3.0   \n",
      "\n",
      "   Coralcover  SSTRateofRise     PARmax   Calcite  Dis_oxygen  mean.waveNRJ  \\\n",
      "0          45       0.019214  54.747001  0.001075      4.7495      3.714321   \n",
      "1          45       0.019214  54.747001  0.001075      4.7495      3.714321   \n",
      "2          45       0.019214  54.747001  0.001075      4.7495      3.714321   \n",
      "3          45       0.019214  54.747001  0.001075      4.7495      3.714321   \n",
      "4          48       0.020051  55.395000  0.001747      4.7510      3.270938   \n",
      "5          48       0.020051  55.395000  0.001747      4.7510      3.270938   \n",
      "6          41       0.020051  55.395000  0.001747      4.7510      3.270938   \n",
      "7          49       0.021358  54.935499  0.001744      4.7540      2.857747   \n",
      "\n",
      "   Salinity_mean  andrello_reef_value  andrello_nutrients     mean.npp  \\\n",
      "0      35.167646                    0            8.388602  1139.112671   \n",
      "1      35.167646                    0            8.388602  1139.112671   \n",
      "2      35.167646                    0            8.388602  1139.112671   \n",
      "3      35.167646                    0            8.388602  1139.112671   \n",
      "4      35.102688                    0            6.731860  1126.355957   \n",
      "5      35.102688                    0            6.731860  1126.355957   \n",
      "6      35.102688                    0            6.731860  1126.355957   \n",
      "7      35.106329                    0            2.645199  1150.677856   \n",
      "\n",
      "   TT_market_hrs  TT_pop_hrs     cumDHW  SST_Kurtosis  SST_Median  \\\n",
      "0       1.383333    0.366667  24.133263     -0.803330      27.435   \n",
      "1       1.383333    0.366667  24.133263     -0.803330      27.435   \n",
      "2       1.383333    0.366667  24.133263     -0.803330      27.435   \n",
      "3       1.383333    0.366667  24.133263     -0.803330      27.435   \n",
      "4       1.383333    0.366667  25.342901     -0.793681      27.455   \n",
      "5       1.383333    0.366667  25.342901     -0.793681      27.455   \n",
      "6       1.383333    0.366667  25.342901     -0.793681      27.455   \n",
      "7       1.783333    0.333333  30.265219     -0.795494      27.525   \n",
      "\n",
      "   ChlorA_median  andrello_sediments  Current_vel_mean  Diff_attenuation  \\\n",
      "0       0.465182        53540.007810          0.541991           0.09475   \n",
      "1       0.465182        53540.007810          0.541991           0.09475   \n",
      "2       0.465182        53540.007810          0.541991           0.09475   \n",
      "3       0.465182        53540.007810          0.541991           0.09475   \n",
      "4       0.700521        38477.105470          0.690454           0.11400   \n",
      "5       0.700521        38477.105470          0.690454           0.11400   \n",
      "6       0.592692        38477.105470          0.690454           0.11400   \n",
      "7       0.656533         3224.024414          0.561659           0.10500   \n",
      "\n",
      "    Grav_NP    Grav_NC      PH  SST_bimodality  SST_Skewness  \\\n",
      "0  0.008503  32.387920  8.2175        0.462556     -0.128136   \n",
      "1  0.008503  32.387920  8.2175        0.462556     -0.128136   \n",
      "2  0.008503  32.387920  8.2175        0.462556     -0.128136   \n",
      "3  0.008503  32.387920  8.2175        0.462556     -0.128136   \n",
      "4  0.008503  32.387920  8.2180        0.461297     -0.134548   \n",
      "5  0.008503  32.387920  8.2180        0.461297     -0.134548   \n",
      "6  0.008503  32.387920  8.2180        0.461297     -0.134548   \n",
      "7  0.512126  19.634828  8.2185        0.464874     -0.158601   \n",
      "\n",
      "   ClimateStressModel   Netflow  Indegree  Outdegree  Retention  min_yr  \\\n",
      "0            0.596375  0.144498     98.25      74.75      14.00    2019   \n",
      "1            0.596375  0.144498     98.25      74.75      14.00    2010   \n",
      "2            0.596375  0.144498     98.25      74.75      14.00    2015   \n",
      "3            0.596375  0.144498     98.25      74.75      14.00    2016   \n",
      "4            0.629000  0.011721    112.75      51.50     183.75    2010   \n",
      "5            0.629000  0.011721    112.75      51.50     183.75    2015   \n",
      "6            0.595600  0.011721    112.75      51.50     183.75    2019   \n",
      "7            0.626000 -0.063087     96.50      40.75      35.75    2015   \n",
      "\n",
      "   max_yr  no_replicates  \n",
      "0    2019              1  \n",
      "1    2015              2  \n",
      "2    2015              1  \n",
      "3    2019              2  \n",
      "4    2019              3  \n",
      "5    2015              1  \n",
      "6    2019              1  \n",
      "7    2019              3  \n"
     ]
    }
   ],
   "source": [
    "# d\n",
    "# update pandas option\n",
    "pd.set_option('display.max_columns', None)\n",
    "\n",
    "# storing first 8 rows of coral_div\n",
    "coral_head = coral_div.head(8)\n",
    "\n",
    "# print results\n",
    "print(\"First 8 rows with column names:\", coral_head)"
   ]
  },
  {
   "cell_type": "code",
   "execution_count": 23,
   "metadata": {
    "tags": [],
    "vscode": {
     "languageId": "python"
    }
   },
   "outputs": [
    {
     "name": "stdout",
     "output_type": "stream",
     "text": [
      "<class 'pandas.core.frame.DataFrame'>\n",
      "RangeIndex: 575 entries, 0 to 574\n",
      "Data columns (total 42 columns):\n",
      " #   Column               Non-Null Count  Dtype  \n",
      "---  ------               --------------  -----  \n",
      " 0   PU_ID                575 non-null    int64  \n",
      " 1   PU_Lat               575 non-null    float64\n",
      " 2   PU_Lon               575 non-null    float64\n",
      " 3   Number_of_genera     575 non-null    int64  \n",
      " 4   Country              575 non-null    object \n",
      " 5   Ecoregion            575 non-null    object \n",
      " 6   Management           575 non-null    object \n",
      " 7   Habitat              530 non-null    object \n",
      " 8   Observer             575 non-null    object \n",
      " 9   Depth                575 non-null    float64\n",
      " 10  Coralcover           575 non-null    int64  \n",
      " 11  SSTRateofRise        575 non-null    float64\n",
      " 12  PARmax               575 non-null    float64\n",
      " 13  Calcite              575 non-null    float64\n",
      " 14  Dis_oxygen           575 non-null    float64\n",
      " 15  mean.waveNRJ         575 non-null    float64\n",
      " 16  Salinity_mean        575 non-null    float64\n",
      " 17  andrello_reef_value  575 non-null    int64  \n",
      " 18  andrello_nutrients   575 non-null    float64\n",
      " 19  mean.npp             575 non-null    float64\n",
      " 20  TT_market_hrs        575 non-null    float64\n",
      " 21  TT_pop_hrs           575 non-null    float64\n",
      " 22  cumDHW               575 non-null    float64\n",
      " 23  SST_Kurtosis         575 non-null    float64\n",
      " 24  SST_Median           575 non-null    float64\n",
      " 25  ChlorA_median        575 non-null    float64\n",
      " 26  andrello_sediments   575 non-null    float64\n",
      " 27  Current_vel_mean     567 non-null    float64\n",
      " 28  Diff_attenuation     575 non-null    float64\n",
      " 29  Grav_NP              575 non-null    float64\n",
      " 30  Grav_NC              575 non-null    float64\n",
      " 31  PH                   575 non-null    float64\n",
      " 32  SST_bimodality       575 non-null    float64\n",
      " 33  SST_Skewness         575 non-null    float64\n",
      " 34  ClimateStressModel   575 non-null    float64\n",
      " 35  Netflow              575 non-null    float64\n",
      " 36  Indegree             575 non-null    float64\n",
      " 37  Outdegree            575 non-null    float64\n",
      " 38  Retention            575 non-null    float64\n",
      " 39  min_yr               575 non-null    int64  \n",
      " 40  max_yr               575 non-null    int64  \n",
      " 41  no_replicates        575 non-null    int64  \n",
      "dtypes: float64(30), int64(7), object(5)\n",
      "memory usage: 188.8+ KB\n"
     ]
    }
   ],
   "source": [
    "# e\n",
    "# getting other info on the data set using .info()\n",
    "coral_info = coral_div.info()\n",
    "coral_info"
   ]
  },
  {
   "cell_type": "markdown",
   "metadata": {},
   "source": [
    "## 4\n",
    "\n",
    "Some of the columns have data type `int64` and some have data type `float64`. What is the difference between these `int64` and `float64`?\n"
   ]
  },
  {
   "cell_type": "markdown",
   "metadata": {},
   "source": [
    "Each data type represents a different kind of numerical data. int64 means numbers are integer values, while numbers stored as float64 may have decimal points or are storing a very large number that is best represented using scientific notation."
   ]
  },
  {
   "cell_type": "markdown",
   "metadata": {},
   "source": [
    "## 5\n",
    "\n",
    "The `Country` column indicates the country of reef location. Explain in your words what is the ouput of `coral_div.Country` and `coral_div.Country.unique()`. "
   ]
  },
  {
   "cell_type": "markdown",
   "metadata": {
    "tags": []
   },
   "source": [
    "coral_div.Country will output the country of every data point, while coral_div.Country.unique() will output the countries that exist in the data set and will not repeat counitries. Using .unique makes it much easier to do initial investigation of the data set."
   ]
  },
  {
   "cell_type": "markdown",
   "metadata": {},
   "source": [
    "## 6\n",
    "\n",
    "Check the dataset's [metadata file README_md.doc](https://knb.ecoinformatics.org/view/doi:10.5063/F1K35S3H) to find which column has information about who made an observation. How many observers collected this data? HINT: use the `len` Python function. Not sure what `len` does? Use `?`."
   ]
  },
  {
   "cell_type": "code",
   "execution_count": 31,
   "metadata": {
    "tags": [],
    "vscode": {
     "languageId": "python"
    }
   },
   "outputs": [
    {
     "name": "stdout",
     "output_type": "stream",
     "text": [
      "16 observers collected this data\n"
     ]
    }
   ],
   "source": [
    "# Observer column has data we want to use\n",
    "# find unique values in observer column\n",
    "observers = coral_div.Observer.unique()\n",
    "\n",
    "# store number of observers\n",
    "num_observers = len(observers)\n",
    "print(num_observers, \"observers collected this data\")"
   ]
  },
  {
   "cell_type": "markdown",
   "metadata": {},
   "source": [
    "## 7\n",
    "\n",
    "The `Coralcover` column indicates the percent of hard coral cover in each 6km reef cell surveyed. What data is `coral_div[coral_div['Coralcover'] >= 50]` selecting?"
   ]
  },
  {
   "cell_type": "markdown",
   "metadata": {},
   "source": [
    "This code is collecting all rows in the coral_div dataset that have over 50% hard coral cover."
   ]
  },
  {
   "cell_type": "markdown",
   "metadata": {},
   "source": [
    "## 8\n",
    "\n",
    "Use code to find if there are there any sites with a 30% coral cover in Tanzania."
   ]
  },
  {
   "cell_type": "code",
   "execution_count": 8,
   "metadata": {
    "vscode": {
     "languageId": "python"
    }
   },
   "outputs": [],
   "source": [
    "tanzania_tirty = coral_div[coral_div["
   ]
  },
  {
   "cell_type": "markdown",
   "metadata": {},
   "source": [
    "## 9\n",
    "\n",
    "We are interested in looking at the PH of sea water (`PH` column),  mean salinity (PSS) (`Salinity_mean` column), and depth of survey location in meters (`Depth` column). Select this data. "
   ]
  },
  {
   "cell_type": "code",
   "execution_count": 9,
   "metadata": {
    "vscode": {
     "languageId": "python"
    }
   },
   "outputs": [],
   "source": [
    "# solve exercise here"
   ]
  },
  {
   "cell_type": "markdown",
   "metadata": {},
   "source": [
    "## 10\n",
    "The `max_yr` column indicates the year of last sampling at a given site. Select the PH, salinity, and depth for sites where sampling ended in 2017. \n"
   ]
  },
  {
   "cell_type": "code",
   "execution_count": 10,
   "metadata": {
    "vscode": {
     "languageId": "python"
    }
   },
   "outputs": [],
   "source": [
    "# solve exercise here"
   ]
  },
  {
   "cell_type": "markdown",
   "metadata": {},
   "source": [
    "## 11\n",
    "Use `iloc` to select rows 95 throuhg 100 (including 100) in the 17th, 20th, and 28th columns and assign these values to a new variable called `subset`. HINT: the ouput columns should be `Salinity_mean`, `mean.npp` and `Current_vel_mean`. Are you indexing from 0?"
   ]
  },
  {
   "cell_type": "code",
   "execution_count": 11,
   "metadata": {
    "vscode": {
     "languageId": "python"
    }
   },
   "outputs": [],
   "source": [
    "# solve exercise here"
   ]
  },
  {
   "cell_type": "markdown",
   "metadata": {},
   "source": [
    "## 12 \n",
    "\n",
    "Run `subset.isna()`. Explain what this code does and what the output represents."
   ]
  },
  {
   "cell_type": "markdown",
   "metadata": {},
   "source": [
    "*Update this markdown cell with your answer.*"
   ]
  },
  {
   "cell_type": "markdown",
   "metadata": {},
   "source": [
    "## 13\n",
    "Run `subset.isna().any()`. Explain what this code does and what the output represents. HINT: It could be helpful to check the [documentation of `pandas.Sries.any`](https://pandas.pydata.org/docs/reference/api/pandas.Series.any.html).\n"
   ]
  },
  {
   "cell_type": "markdown",
   "metadata": {},
   "source": [
    "*Update this markdown cell with your answer.*"
   ]
  },
  {
   "cell_type": "markdown",
   "metadata": {},
   "source": [
    "## 14 \n",
    "\n",
    "Select the rows in `subset` that have NA in the `Current_vel_mean` column. HINT: you can use your answer for 9."
   ]
  },
  {
   "cell_type": "code",
   "execution_count": 12,
   "metadata": {
    "vscode": {
     "languageId": "python"
    }
   },
   "outputs": [],
   "source": [
    "# solve exercise here"
   ]
  }
 ],
 "metadata": {
  "kernelspec": {
   "display_name": "Anaconda 3 (Base)",
   "language": "python",
   "name": "base"
  },
  "language_info": {
   "codemirror_mode": {
    "name": "ipython",
    "version": 3
   },
   "file_extension": ".py",
   "mimetype": "text/x-python",
   "name": "python",
   "nbconvert_exporter": "python",
   "pygments_lexer": "ipython3",
   "version": "3.9.13"
  }
 },
 "nbformat": 4,
 "nbformat_minor": 4
}
