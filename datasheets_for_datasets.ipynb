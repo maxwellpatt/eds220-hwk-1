{
 "cells": [
  {
   "cell_type": "markdown",
   "id": "87bd49d0-eb9b-4eb6-875d-9c33116103b3",
   "metadata": {},
   "source": [
    "*Datasheets for Datasets* is an inspiring, goal-oriented article that hopes to improve transparency and accountability in the data world by aligning dataset creators and consumers. One of the main topics the article discusses, the fact that there is “no standardized process for documenting machine learning datasets,” is poised to be one of the most pressing ethical dilemmas facing data scientists and architects moving forward. I believe that the framework posed in the article is feasible to implement, but will require strong oversight to assure the steps are being done correctly and methodically. I believe the most critical component of assuring equitable outcomes through machine learning algorithms is to have up-to-date insights on the implications of the model’s outcomes and assessing if there is strong bias in said outcomes. Overall, I believe that the framework posed in the article is strong and what is needed to improve data justice, and the most critical component is keeping up-to-date with the implications of the data and models using it."
   ]
  }
 ],
 "metadata": {
  "kernelspec": {
   "display_name": "Anaconda 3 (Base)",
   "language": "python",
   "name": "base"
  },
  "language_info": {
   "codemirror_mode": {
    "name": "ipython",
    "version": 3
   },
   "file_extension": ".py",
   "mimetype": "text/x-python",
   "name": "python",
   "nbconvert_exporter": "python",
   "pygments_lexer": "ipython3",
   "version": "3.9.13"
  }
 },
 "nbformat": 4,
 "nbformat_minor": 5
}
